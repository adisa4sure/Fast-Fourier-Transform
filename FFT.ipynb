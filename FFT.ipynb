{
 "cells": [
  {
   "cell_type": "markdown",
   "metadata": {},
   "source": [
    " <center> <h1>Fast Fourier Transform in Spartial Domain</h1> </center>\n",
    " <center> <h3>Saheed Adisa Ganiyu</h3> </center>\n",
    " \n",
    " <center> <h3>October, 2022.</h3> </center>"
   ]
  },
  {
   "cell_type": "markdown",
   "metadata": {},
   "source": [
    "#### Motivation\n",
    "Is there a faster way that will beat Karatsuba Algorithm for high degree polynomial multiplication?\n",
    "\n",
    "<center><h2><span style=\"color:blue\">Yes!</span></h2></center>\n",
    "\n",
    "<center><h3><span style=\"color:blue\">It is called Fast Fast Fourier Transform (FFT) algorithm(s)</span></h3></center>"
   ]
  },
  {
   "cell_type": "markdown",
   "metadata": {},
   "source": [
    "### FOURIER TRANSFORM\n",
    "#### DEFINITION\n",
    "Let $f: \\mathbb{R} \\rightarrow \\mathbb{C}$ be an integrable function, the Fourier transform of $f$ is a function $\\hat{f}: \\mathbb{R} \\rightarrow \\mathbb{C}$ defined by the formula\n",
    "$$\n",
    "\\hat{f}(T):=\\int_{-\\infty}^{\\infty} f(x) e^{-i 2 \\pi x T} d x\n",
    "$$"
   ]
  },
  {
   "cell_type": "markdown",
   "metadata": {},
   "source": [
    "### INVERSE FOURIER TRANSFORM\n",
    "#### DEFINITION\n",
    "If $F: \\mathbb{R} \\rightarrow \\mathbb{C}$ is an integrable function, then the inverse Fourier transform of $F$ is defined as\n",
    "$$\n",
    "\\check{F}(x):=\\int_{-\\infty}^{\\infty} F(T) e^{i 2 \\pi x T} d T\n",
    "$$"
   ]
  },
  {
   "cell_type": "markdown",
   "metadata": {},
   "source": [
    "### DISCRETE FOURIER TRANSFORM\n",
    "#### DEFINITION\n",
    "Discrete Fourier transform of a finite sequence $\\left(f_0, \\ldots, f_{N-1}\\right)$, is a sequence $\\hat{f}=\\left(\\hat{f}_0, \\ldots, \\hat{f}_{N-1}\\right)$, where\n",
    "<math>\n",
    "\\begin{align}\n",
    "\\hat{f}_n:=\\sum_{k=0}^{N-1} f_k e^{-i 2 \\pi k n / N}\n",
    "\\end{align}\n",
    "<math>"
   ]
  },
  {
   "cell_type": "markdown",
   "metadata": {},
   "source": [
    "### DISCRETE INVERSE FOURIER TRANSFORM\n",
    "#### DEFINITION\n",
    "Discrete inverse Fourier transform of a sequence $F_0, \\ldots, F_{N-1}$, is\n",
    "<math>\\begin{align}\n",
    "\\check{F}_k:=\\frac{1}{N} \\sum_{n=0}^{N-1} F_n e^{i 2 \\pi k n / N} \\text { for } k \\in\\{0, \\ldots, N-1\\} .\n",
    "\\end{align}<math>"
   ]
  },
  {
   "cell_type": "markdown",
   "metadata": {},
   "source": [
    "### OBSERVATION (Primitive ROOT OF UNITY)\n",
    "Take $\\omega=e^{i \\cdot \\frac{2 \\pi}{N}} \\in \\mathbb{C}$, then\n",
    "+ $\\omega^N=e^{2 \\pi i}=1$,\n",
    "* $\\omega^k \\neq 1$ for all $0<k<N$."
   ]
  },
  {
   "cell_type": "code",
   "execution_count": 21,
   "metadata": {},
   "outputs": [
    {
     "name": "stderr",
     "output_type": "stream",
     "text": [
      "<>:2: DeprecationWarning: invalid escape sequence \\m\n",
      "<>:18: DeprecationWarning: invalid escape sequence \\l\n",
      "<>:2: DeprecationWarning: invalid escape sequence \\m\n",
      "<>:18: DeprecationWarning: invalid escape sequence \\l\n",
      "<ipython-input-21-00672f265541>:2: DeprecationWarning: invalid escape sequence \\m\n",
      "  \"\"\"\n",
      "<ipython-input-21-00672f265541>:18: DeprecationWarning: invalid escape sequence \\l\n",
      "  \"\"\"\n"
     ]
    }
   ],
   "source": [
    "def root_of_unity( n, K = CC ) :\n",
    "    \"\"\"\n",
    "    This function computes the primitive root of unity of degree `n` in `\\\\mathbb{C}`\n",
    "    \"\"\"\n",
    "    return K( cos(2*pi/n) + i*sin(2*pi/n) )\n",
    "\n",
    "def split_list( L ) :\n",
    "    \"\"\"\n",
    "    Given a list `L` this function constructs lists `E` with elements of `L` having even indices \\\n",
    "    and `O` with elements of `L` having odd indices.\n",
    "    \"\"\"\n",
    "    n = len(L)\n",
    "    E = [ L[j] for j in [0,2,..,n-1] ]\n",
    "    O = [ L[j] for j in [1,3,..,n-1] ]\n",
    "    return E,O\n",
    "\n",
    "def next_pow_2( n ) :\n",
    "    \"\"\"\n",
    "    This function computes `2^N` s.t. `2^{N-1} < n \\\\leq 2^N`\n",
    "    \"\"\"\n",
    "    assert n > 0, \"n must be positive!\"\n",
    "    N = ZZ(ceil(log(n, 2)))\n",
    "    return 2^N"
   ]
  },
  {
   "cell_type": "code",
   "execution_count": 22,
   "metadata": {},
   "outputs": [
    {
     "data": {
      "text/plain": [
       "1.00000000000000"
      ]
     },
     "execution_count": 22,
     "metadata": {},
     "output_type": "execute_result"
    }
   ],
   "source": [
    "#Verification\n",
    "N=4\n",
    "root_of_unity(N)^N"
   ]
  },
  {
   "cell_type": "markdown",
   "metadata": {},
   "source": [
    "### GENERALIZED DISCRETE FOURIER TRANSFORM\n",
    "+ Let $R$ be a ring and $\\omega \\in R$ be a primitive root of unity of degree $N$. The discrete Fourier transform **(DFT)** of a finite sequence $f=\\left(f_0, \\ldots, f_{N-1}\\right)$ of length $N$ consisting of elements from $R$ is a sequence $\\hat{f}=\\left(\\hat{f}_0, \\ldots, \\hat{f}_{N-1}\\right)$ defined by the formula\n",
    "$$\n",
    "\\hat{f}_n:=\\sum_{k=0}^{N-1} f_k \\omega^{-k n}\n",
    "$$\n",
    "\\\n",
    "+ The discrete inverse Fourier transform **(DIFT)** of a sequence $F=\\left(F_0, \\ldots, F_{N-1}\\right)$ is a sequence $\\check{F}=\\left(\\check{F}_0, \\ldots, \\check{F}_{N-1}\\right)$ given by the formula\n",
    "$$\n",
    "\\check{F}_k:=\\frac{1}{N} \\sum_{n=0}^{N-1} F_n \\omega^{k n}\n",
    "$$"
   ]
  },
  {
   "cell_type": "code",
   "execution_count": 23,
   "metadata": {},
   "outputs": [
    {
     "data": {
      "text/html": [
       "<html><script type=\"math/tex; mode=display\">\\newcommand{\\Bold}[1]{\\mathbf{#1}}f= 4x^{3} + 3x^{2} + 2x + 1</script></html>"
      ],
      "text/plain": [
       "f= 4x^{3} + 3x^{2} + 2x + 1"
      ]
     },
     "metadata": {},
     "output_type": "display_data"
    },
    {
     "data": {
      "text/html": [
       "<html><script type=\"math/tex; mode=display\">\\newcommand{\\Bold}[1]{\\mathbf{#1}}\\hat{f}= \\left[10, 2 i - 2, -2, -2 i - 2\\right]</script></html>"
      ],
      "text/plain": [
       "\\hat{f}= \\left[10, 2 i - 2, -2, -2 i - 2\\right]"
      ]
     },
     "metadata": {},
     "output_type": "display_data"
    }
   ],
   "source": [
    "#Computing fft using above definition\n",
    "L = [1..4]; show(\"f=\"+latex(f))\n",
    "N = len(L); #show(\"len(f)=\"+latex(N))\n",
    "omega = root_of_unity(N,SR);\n",
    "ff = [ sum( [ L[k]*omega^(-k*n) for k in range(N)] ) for n in range(N)]; \n",
    "show(\"\\\\hat{f}=\"+latex(ff))"
   ]
  },
  {
   "cell_type": "markdown",
   "metadata": {},
   "source": [
    "#### PROPOSITION\n",
    "Let $R$ be a ring and $\\omega \\in R$ be a primitive root of unity of degree $N$. Then for any sequence $f$ of length $N$ the following identity holds\n",
    "$$\n",
    "f=\\left(f^{\\wedge}\\right)^{\\vee} .\n",
    "$$"
   ]
  },
  {
   "cell_type": "markdown",
   "metadata": {},
   "source": [
    "#### Thoerem (DFT of Polynomial)\n",
    "- $R$ ring\n",
    "- $f \\in R[x]$ polynomial of degree $N-1$\n",
    "- $\\omega \\in R$ primitive root of unity of degree $N(=1+\\operatorname{deg} f)$\n",
    "Then\n",
    "$$\n",
    "\\hat{f}=\\left(f(1), f(1 / \\omega), \\ldots, f\\left(1 / \\omega^{N-1}\\right)\\right) .\n",
    "$$"
   ]
  },
  {
   "cell_type": "code",
   "execution_count": 24,
   "metadata": {},
   "outputs": [
    {
     "data": {
      "text/html": [
       "<html><script type=\"math/tex; mode=display\">\\newcommand{\\Bold}[1]{\\mathbf{#1}}4x^{3} + 3x^{2} + 2x + 1</script></html>"
      ],
      "text/plain": [
       "4*x^3 + 3*x^2 + 2*x + 1"
      ]
     },
     "metadata": {},
     "output_type": "display_data"
    },
    {
     "data": {
      "text/html": [
       "<html><script type=\"math/tex; mode=display\">\\newcommand{\\Bold}[1]{\\mathbf{#1}}\\hat{f}= \\left[10, -2 i - 2, -2, 2 i - 2\\right]</script></html>"
      ],
      "text/plain": [
       "\\hat{f}= \\left[10, -2 i - 2, -2, 2 i - 2\\right]"
      ]
     },
     "metadata": {},
     "output_type": "display_data"
    }
   ],
   "source": [
    "#Computing the discrete Fourier transform (of the same polynomial as above) using the above theorem.\n",
    "P.<x>=ZZ[];\n",
    "f = P(L); show(f)\n",
    "F = [f(omega^(j)) for j in [0..f.degree()] ]\n",
    "show(\"\\\\hat{f}=\"+latex(F))"
   ]
  },
  {
   "cell_type": "markdown",
   "metadata": {},
   "source": [
    "<center><h2> Can we compute DFT and DIFT in a faster way that will beat Karatsuba Algorithm ? </h2><center>\n",
    "\n",
    "<center><h2><span style=\"color:blue\">Yes!</span></h2></center>\n",
    "\n",
    "<center><h3><span style=\"color:blue\">It is called Fast Fast Fourier Transform (FFT) algorithm(s)</span></h3></center>"
   ]
  },
  {
   "cell_type": "markdown",
   "metadata": {},
   "source": [
    "### Cooley-Tukey FFT Algorithm\n",
    "$$\n",
    "\\begin{aligned}\n",
    "\\hat{f}_j=\\sum_{k=0}^{2^n-1} f_k \\omega^{-k j}=\\sum_{k=0}^{2^{n-1}-1} f_{2 k} \\omega^{-2 k j} &+\\sum_{k=0}^{2^{n-1}-1} f_{2 k+1} \\omega^{-(2 k+1) j} \\\\\n",
    "&=\\sum_{k=0}^{2^{n-1}-1} f_{2 k}\\left(\\omega^2\\right)^{-k j}+\\omega^{-j} \\cdot \\sum_{k=0}^{2^{n-1}-1} f_{2 k+1}\\left(\\omega^2\\right)^{-k j} .\n",
    "\\end{aligned}\n",
    "$$"
   ]
  },
  {
   "cell_type": "markdown",
   "metadata": {},
   "source": [
    "<b>The step-by-step</b> <a href=\"https://en.wikipedia.org/wiki/Cooley%E2%80%93Tukey_FFT_algorithm\">Cooley-Tukey algorithm</a> to compute DFT of $(1,2,3,4)$.</p>\n",
    "<math>\n",
    "\\begin{matrix} X_k= \\underbrace{\\sum \\limits_{m=0}^{N/2-1} x_{2m}   e^{-\\frac{2\\pi i}{N/2} mk}}_{\\mathrm{DFT\\;of\\;even-indexed\\;part\\;of\\;} x_n} {} +  e^{-\\frac{2\\pi i}{N}k}\n",
    " \\underbrace{\\sum \\limits_{m=0}^{N/2-1} x_{2m+1} e^{-\\frac{2\\pi i}{N/2} mk}}_{\\mathrm{DFT\\;of\\;odd-indexed\\;part\\;of\\;} x_n} =  E_k + e^{-\\frac{2\\pi i}{N}k} O_k.\n",
    "\\end{matrix}\n",
    "</math>"
   ]
  },
  {
   "cell_type": "markdown",
   "metadata": {},
   "source": [
    "#### Cooley-Tukey FFT algorithm\n",
    "- $R$ is a ring\n",
    "- $\\omega \\in R$ a primitive root of unity of degree $N$\n",
    "- $N=2^n$ for some $n \\in \\mathbb{N}$\\\n",
    "INPUT: $f=\\left(f_0, \\ldots, f_{N-1}\\right)$ a finite sequence of length $N$\\\n",
    "OUTPUT: the discrete Fourier transform $\\hat{f}$ of $f$\n",
    "\n",
    "1) If $n=0$, then return $\\hat{f}=f$ and quit;\\\n",
    "2) take\n",
    "$f_{\\text {even }}:=\\left(f_0, f_2, \\ldots, f_{N-2}\\right) \\quad$ and $\\quad f_{\\text {odd }}:=\\left(f_1, f_3, \\ldots, f_{N-1}\\right)$;\\\n",
    "3) compute recursively Fourier transforms\n",
    "$\\hat{f}_{\\text {even }}=\\left(\\hat{e}_0, \\ldots, \\hat{e}_{N / 2-1}\\right) \\quad$ and $\\quad \\hat{f}_{\\text {odd }}=\\left(\\hat{o}_0, \\ldots, \\hat{o}_{N / 2-1}\\right) ;$\\\n",
    "4) combine the results taking for $j \\in\\{0, \\ldots, N / 2-1\\}$ :\n",
    "$$\n",
    "\\hat{f}_j:=\\hat{e}_j+\\omega^{-j} \\hat{o}_j \\quad \\text { and } \\quad \\hat{f}_{j+N / 2}:=\\hat{e}_j-\\omega^{-j} \\hat{o}_j \\text {; }\n",
    "$$\n",
    "5 return $\\hat{f}=\\left(\\hat{f}_0, \\ldots, \\hat{f}_{n-1}\\right)$"
   ]
  },
  {
   "cell_type": "markdown",
   "metadata": {},
   "source": [
    "#### OBSERVATION\n",
    "$~~~~~~~~~~~~~~~~~~~$ The time complexity of Cooley-Tukey algorithm is $\\mathcal{O}(N \\log N)$."
   ]
  },
  {
   "cell_type": "code",
   "execution_count": 25,
   "metadata": {},
   "outputs": [],
   "source": [
    "def fft( L, omega = 0 ) :\n",
    "    \"\"\"\n",
    "    This function computes FFT of a list `L`, using Cooley-Tukey algorithm. \\\n",
    "    The length of the list `L` must be a power of 2.\n",
    "    \n",
    "    INPUT:\n",
    "        \n",
    "        - `L` list\n",
    "        \n",
    "        - `omega` - primitive root of unity of degree `|L|`.\n",
    "        If `omega` is omited, it will be computed.\n",
    "    \"\"\"\n",
    "    # get the length of L\n",
    "    n = len(L)\n",
    "    # stop the recursion if the list consists of a single element\n",
    "    if n == 1 :\n",
    "        return L\n",
    "    assert NN(n).is_power_of(2), \"The length of L must be a power of 2\"\n",
    "    # compute omega if it was not provided\n",
    "    if omega == 0:\n",
    "        omega = root_of_unity(n)\n",
    "\n",
    "    # split L into its even and odd parts\n",
    "    e, o = split_list(L)\n",
    "\n",
    "    # compute FFTs of both parts \n",
    "    E = fft(e, omega^2)\n",
    "    O = fft(o, omega^2)\n",
    "    # recombine the partial results\n",
    "    L0 = [ E[j] + omega^(-j)*O[j] for j in [0..n//2-1] ] \n",
    "    L1 = [ E[j] - omega^(-j)*O[j] for j in [0..n//2-1] ] \n",
    "\n",
    "    # return the final result\n",
    "    return L0 + L1"
   ]
  },
  {
   "cell_type": "code",
   "execution_count": 26,
   "metadata": {},
   "outputs": [
    {
     "data": {
      "text/html": [
       "<html><script type=\"math/tex; mode=display\">\\newcommand{\\Bold}[1]{\\mathbf{#1}}\\left[10.0000000000000, -2.00000000000000 + 2.00000000000000i, -2.00000000000000, -2.00000000000000 - 2.00000000000000i\\right]</script></html>"
      ],
      "text/plain": [
       "[10.0000000000000,\n",
       " -2.00000000000000 + 2.00000000000000*I,\n",
       " -2.00000000000000,\n",
       " -2.00000000000000 - 2.00000000000000*I]"
      ]
     },
     "metadata": {},
     "output_type": "display_data"
    }
   ],
   "source": [
    "# verification\n",
    "res=fft( [1..4] )\n",
    "show(res)"
   ]
  },
  {
   "cell_type": "markdown",
   "metadata": {},
   "source": [
    "<center> <b> <font size=\"+1\">Flow Diagram</font> </b> </center> \n",
    "<img src=\"pic1.png\" width=\"700\" height=\"700\"> <br>"
   ]
  },
  {
   "cell_type": "markdown",
   "metadata": {},
   "source": [
    "#### DEFINITION\n",
    "The convolution of two integrable functions $g$ and $f$ is a new function $f * g$ defined by the formula\n",
    "$$\n",
    "(f * g)(x):=\\int_{-\\infty}^{\\infty} f(\\xi) \\cdot g(x-\\xi) d \\xi.\n",
    "$$\n",
    "\n"
   ]
  },
  {
   "cell_type": "markdown",
   "metadata": {},
   "source": [
    "![alt text](Conv_fft.png \"Convolution Flow Graph\")"
   ]
  },
  {
   "cell_type": "markdown",
   "metadata": {},
   "source": [
    "#### CONVOLUTION\n",
    "Definition\\\n",
    "■ $R$ ring\\\n",
    "■ $f=\\left(f_0, \\ldots, f_m\\right)$ and $g=\\left(g_0, \\ldots, g_n\\right)$ two finite sequences of elements of $R$ Then the sequence $(f \\hat{*} g)_{0 \\leq k \\leq m+n}$ defined by the formula\n",
    "$$\n",
    "(f \\hat{*} g)_k:=\\sum_{j=\\max \\{0, k-n\\}}^{\\min \\{k, m\\}} f_j \\cdot g_{k-j}\n",
    "$$\n",
    "is called the discrete convolution of $f$ and $g$."
   ]
  },
  {
   "cell_type": "markdown",
   "metadata": {},
   "source": [
    "#### POLYNOMIAL MULTIPLICATION VIA DFT\n",
    "COROLLARY\n",
    "If $f, g \\in K[x]$ are two polynomials, then\n",
    "$$\n",
    "f * g=(\\hat{f} \\cdot \\hat{g})^{\\vee} .\n",
    "$$\n",
    "Here $*$ is the polynomial multiplication and $\\cdot$ is the point-wise multiplication of their Fourier transforms.\n",
    "\n",
    "Hence, the complexity of the polynomial multiplication using the above corollary is $\\mathcal{O}(n+$ complexity of discrete Fourier transform $)$"
   ]
  },
  {
   "cell_type": "markdown",
   "metadata": {},
   "source": [
    "#### FAST POLYNOMIAL MULTIPLICATION\n",
    "- $R, f, g, N, \\omega$\\\n",
    "OUTPUT: product $h:=f \\cdot g$\\\n",
    "1) pad the lists to length $N$ :\n",
    "$$\n",
    "f:=\\left(f_0, f_1, \\ldots, f_m, 0, \\ldots, 0\\right), \\quad g:=\\left(g_0, g_1, \\ldots, g_n, 0, \\ldots, 0\\right)\n",
    "$$\n",
    "2) compute DFTs:\n",
    "$$\n",
    "\\hat{f}=\\left(\\hat{f}_0, \\hat{f}_1, \\ldots, \\hat{f}_{N-1}\\right), \\quad \\hat{g}=\\left(\\hat{g}_0, \\hat{g}_1, \\ldots, \\hat{g}_{N-1}\\right)\n",
    "$$\n",
    "3) multiply $\\hat{f}$ and $\\hat{g}$ coefficient-wisely:\n",
    "$$\n",
    "H:=\\left(\\hat{f}_0 \\cdot \\hat{g}_0, \\ldots, \\hat{f}_{N-1} \\cdot \\hat{g}_{N-1}\\right)\n",
    "$$\n",
    "4) compute DIFT $h:=\\check{H}$;\\\n",
    "5) return $h$."
   ]
  },
  {
   "cell_type": "markdown",
   "metadata": {},
   "source": [
    "#### FAST POLYNOMIAL MULTIPLICATION: EXAMPLE\n",
    "- Take two polynomials:\\\n",
    "$$\n",
    "f=4 x^3+3 x^2+2 x+1, \\quad g=3 x^3+4 x^2+x+2,\n",
    "$$\n",
    "- Write their lists of coefficients padded with zeros:\n",
    "$$\n",
    "\\begin{aligned}\n",
    "    f &= [1, 2, 3, 4, 0, 0, 0, 0]\\\\\n",
    "    g &= [2, 1, 4, 3, 0, 0, 0, 0]\n",
    "\\end{aligned}\n",
    "$$\n",
    "- Compute DFT's of both getting:\n",
    "$$\n",
    "\\begin{aligned}\n",
    "&\\hat{\\mathfrak{f}}=(10 .,-0.41-7.2 i,-2.0+2.0 i, 2.4-1.2 i,-2.0,2.4+1.2 i,-2.0-2.0 i,-0.41+7.2 i), \\\\\n",
    "&\\hat{\\mathfrak{g}}=(10 ., 0.59-6.8 i,-2.0+2.0 i, 3.4+1.2 i, 2.0,3.4-1.2 i,-2.0-2.0 i, 0.59+6.8 i) .\n",
    "\\end{aligned}\n",
    "$$\n",
    "- Multiply coefficient-wisely:\n",
    "$$\n",
    "H=\\left(100 .,-50 .-1.4 i,-1.8 \\times 10^{-15}-8.0 i, 9.7-1.4 i,-4.0,9.7+1.4 i,-1.8 \\times 10^{-15}+8.0 i,-50 .+1.4 i\\right) \\text {. }\n",
    "$$\n",
    "- Finally compute the discrete inverse Fourier transform getting\n",
    "$$\n",
    "h=12 x^6+25 x^5+22 x^4+22 x^3+12 x^2+5 x+2 .\n",
    "$$"
   ]
  },
  {
   "cell_type": "code",
   "execution_count": 27,
   "metadata": {},
   "outputs": [
    {
     "data": {
      "text/html": [
       "<html><script type=\"math/tex; mode=display\">\\newcommand{\\Bold}[1]{\\mathbf{#1}}4x^{3} + 3x^{2} + 2x + 1</script></html>"
      ],
      "text/plain": [
       "4*x^3 + 3*x^2 + 2*x + 1"
      ]
     },
     "metadata": {},
     "output_type": "display_data"
    },
    {
     "data": {
      "text/html": [
       "<html><script type=\"math/tex; mode=display\">\\newcommand{\\Bold}[1]{\\mathbf{#1}}3x^{3} + 4x^{2} + x + 2</script></html>"
      ],
      "text/plain": [
       "3*x^3 + 4*x^2 + x + 2"
      ]
     },
     "metadata": {},
     "output_type": "display_data"
    }
   ],
   "source": [
    "𝑓 = 4*x**3+3*x**2+2*x+1; show(f)\n",
    "𝑔 = 3*x**3+4*x**2+x+2; show(g)"
   ]
  },
  {
   "cell_type": "code",
   "execution_count": 28,
   "metadata": {},
   "outputs": [],
   "source": [
    "def fast_poly_mult(f,g):\n",
    "    \"\"\"\n",
    "    This function compute mutilplication of two polynomials.\n",
    "    \"\"\"\n",
    "    P.<x> = ZZ[]\n",
    "    # find the length of the resulting sequence\n",
    "    N = 2*max( next_pow_2(f.degree()), next_pow_2(g.degree()))\n",
    "    # convert f, g into lists of length N\n",
    "    f_ = f.list() + [0]*(N - f.degree() - 1)\n",
    "    g_ = g.list() + [0]*(N - g.degree() - 1)\n",
    "    # compute FFT of both lists\n",
    "    omega = root_of_unity(N)\n",
    "    #K.<omega> = CyclotomicField(N)\n",
    "    F = fft(f_, omega)\n",
    "    G = fft(g_, omega)\n",
    "    # Multiply the resulting sequences coordinate-wisely.\n",
    "    H = [ F[j]*G[j] for j in [0..N-1] ]\n",
    "    # the inverse transform = \"forward\" transform with omega replaced by 1/omega (remember about 1/N scaling)\n",
    "    h_ = [ hi/N for hi in fft(H, omega^(-1)) ]\n",
    "    # Convert the results back into integers\n",
    "    h_ = [ round(real_part(hi)) for hi in h_ ]\n",
    "    # cast onto a polynomial type\n",
    "    h = P(h_)\n",
    "    return h"
   ]
  },
  {
   "cell_type": "code",
   "execution_count": 29,
   "metadata": {},
   "outputs": [
    {
     "data": {
      "text/html": [
       "<html><script type=\"math/tex; mode=display\">\\newcommand{\\Bold}[1]{\\mathbf{#1}}12x^{6} + 25x^{5} + 22x^{4} + 22x^{3} + 12x^{2} + 5x + 2</script></html>"
      ],
      "text/plain": [
       "12*x^6 + 25*x^5 + 22*x^4 + 22*x^3 + 12*x^2 + 5*x + 2"
      ]
     },
     "metadata": {},
     "output_type": "display_data"
    }
   ],
   "source": [
    "res=fast_poly_mult(f,g)\n",
    "show(res)"
   ]
  },
  {
   "cell_type": "code",
   "execution_count": 30,
   "metadata": {},
   "outputs": [
    {
     "data": {
      "text/plain": [
       "True"
      ]
     },
     "execution_count": 30,
     "metadata": {},
     "output_type": "execute_result"
    }
   ],
   "source": [
    "# verification\n",
    "res == f*g"
   ]
  },
  {
   "cell_type": "markdown",
   "metadata": {},
   "source": [
    "### Comparison of execution time of each algorithms\n",
    "Computing FFT's of sequences $(1,\\dotsc, 2^k)$, for $k\\leq 10$ using respectively: directly the definition, theorem about values of a polynomial, Cooley-Tukey algorithm. Compare the execution times of each method.</p>"
   ]
  },
  {
   "cell_type": "code",
   "execution_count": 31,
   "metadata": {},
   "outputs": [],
   "source": [
    "# construct the sequences\n",
    "seqs = [ [1..2^k] for k in [1..10] ]; #show(seqs)"
   ]
  },
  {
   "cell_type": "code",
   "execution_count": 19,
   "metadata": {},
   "outputs": [
    {
     "name": "stdout",
     "output_type": "stream",
     "text": [
      "14 s ± 107 ms per loop (mean ± std. dev. of 7 runs, 1 loop each)\n"
     ]
    }
   ],
   "source": [
    "%%timeit\n",
    "# directly by definition\n",
    "\n",
    "for l in seqs :\n",
    "    omega = root_of_unity( len(l) )\n",
    "    L = [ sum( l[k]*omega^(-k*n) for k in range(len(l)) ) for n in range(len(l)) ]"
   ]
  },
  {
   "cell_type": "code",
   "execution_count": 32,
   "metadata": {},
   "outputs": [
    {
     "name": "stdout",
     "output_type": "stream",
     "text": [
      "2.16 s ± 284 ms per loop (mean ± std. dev. of 7 runs, 1 loop each)\n"
     ]
    }
   ],
   "source": [
    "%%timeit\n",
    "# using the theorem\n",
    "P.<x> = ZZ[]\n",
    "\n",
    "for l in seqs :\n",
    "    f = P(l)\n",
    "    omega = root_of_unity( f.degree() )\n",
    "    F = [ f(omega^(-j)) for j in [0..f.degree()] ]"
   ]
  },
  {
   "cell_type": "code",
   "execution_count": 67,
   "metadata": {},
   "outputs": [
    {
     "name": "stdout",
     "output_type": "stream",
     "text": [
      "227 ms ± 21.7 ms per loop (mean ± std. dev. of 7 runs, 1 loop each)\n"
     ]
    }
   ],
   "source": [
    "%%timeit\n",
    "# using Cooley-Tukey\n",
    "\n",
    "for l in seqs :\n",
    "    F = fft(l)"
   ]
  },
  {
   "cell_type": "markdown",
   "metadata": {},
   "source": [
    "<!DOCTYPE html>\n",
    "<html>\n",
    "<style>\n",
    "table, th, td {\n",
    "  border:1px solid black;\n",
    "}\n",
    "</style>\n",
    "<body>\n",
    "\n",
    "<center> <b> <font size=\"+1\">Summary</font> </b> </center>\n",
    "\n",
    "<table style=\"width:100%\">\n",
    "  <tr>\n",
    "    <th>Algorithms</th>\n",
    "    <th>Execution Time</th>\n",
    "  </tr>\n",
    "  <tr>\n",
    "    <td>Direct definition</td>\n",
    "    <td>14.0 s</td>\n",
    "  </tr>\n",
    "  <tr>\n",
    "    <td>By proposition</td>\n",
    "    <td>2.16 s</td>\n",
    "  </tr>\n",
    "  <tr>\n",
    "    <td>Cooley Tukey</td>\n",
    "    <td>227 ms</td>\n",
    "  </tr>\n",
    "</table>\n",
    "\n",
    "</body>\n",
    "</html>"
   ]
  },
  {
   "cell_type": "markdown",
   "metadata": {},
   "source": [
    "**Reference**\n",
    "+ Przemysław Koprowski. Lectures on Computational Mathematics. 2021. http://www.pkoprowski.eu/lcm.\\\n",
    "+ Wikipedia, Cooley–Tukey FFT algorithm: https://en.wikipedia.org/wiki/Cooley%E2%80%93Tukey_FFT_algorithm\n"
   ]
  },
  {
   "cell_type": "code",
   "execution_count": null,
   "metadata": {},
   "outputs": [],
   "source": []
  }
 ],
 "metadata": {
  "kernelspec": {
   "display_name": "SageMath 9.5",
   "language": "sage",
   "name": "sagemath"
  },
  "language_info": {
   "codemirror_mode": {
    "name": "ipython",
    "version": 3
   },
   "file_extension": ".py",
   "mimetype": "text/x-python",
   "name": "python",
   "nbconvert_exporter": "python",
   "pygments_lexer": "ipython3",
   "version": "3.10.6"
  }
 },
 "nbformat": 4,
 "nbformat_minor": 4
}
